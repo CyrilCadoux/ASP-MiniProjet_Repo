{
 "cells": [
  {
   "cell_type": "code",
   "execution_count": 5,
   "metadata": {
    "collapsed": true
   },
   "outputs": [],
   "source": [
    "import numpy as np\n",
    "import sounddevice as sd\n",
    "import pyaudio\n",
    "import math\n",
    "import matplotlib.pyplot as plt\n",
    "import random\n",
    "%matplotlib inline"
   ]
  },
  {
   "cell_type": "code",
   "execution_count": 113,
   "metadata": {
    "collapsed": false
   },
   "outputs": [],
   "source": [
    "PI = np.pi\n",
    "TYPE=np.float32"
   ]
  },
  {
   "cell_type": "markdown",
   "metadata": {},
   "source": [
    "## Let's start by implementing the robot voice"
   ]
  },
  {
   "cell_type": "code",
   "execution_count": 108,
   "metadata": {
    "collapsed": true
   },
   "outputs": [],
   "source": [
    "def robot_voice(samples, index_offset, prev_val, table):\n",
    "    \"\"\"\n",
    "    Must return 3 things :\n",
    "        - the processed array for robot voice\n",
    "        - the next index to be used for the lookup table\n",
    "        - the last value still 'unprocessed'\n",
    "    \"\"\"\n",
    "    last_val = samples[-1] # For the robot_voice() call of the next chunk\n",
    "    N = len(table)\n",
    "    \n",
    "    # Remove the DC component\n",
    "    samples[0] = samples[0] - prev_val\n",
    "    samples[1:] = samples[1:] - samples[0:-1]\n",
    "    \n",
    "    k = index_offset\n",
    "    \n",
    "    for i in range(len(samples)):\n",
    "        samples[i] = samples[i] * table[k]\n",
    "        k = (k+1) % N\n",
    "        \n",
    "    \n",
    "    return samples, k, last_val"
   ]
  },
  {
   "cell_type": "code",
   "execution_count": 115,
   "metadata": {
    "collapsed": false
   },
   "outputs": [],
   "source": [
    "# Parameters\n",
    "rate = 16000 # Hz\n",
    "fsin = 600 # Hz\n",
    "CHUNK = 2**10 # samples. The higher the value, the larger the delay but the better the quality\n",
    "LEN = 10 # to change the du ration of the simulation"
   ]
  },
  {
   "cell_type": "code",
   "execution_count": 116,
   "metadata": {
    "collapsed": true
   },
   "outputs": [],
   "source": [
    "def sin_table(fsin, rate):\n",
    "    x = np.arange(0, rate/fsin)\n",
    "    return np.sin(x*2*PI*fsin/rate)\n",
    "\n",
    "SIN_TABLE = sin_table(fsin, rate)"
   ]
  },
  {
   "cell_type": "code",
   "execution_count": 117,
   "metadata": {
    "collapsed": false
   },
   "outputs": [],
   "source": [
    "p = pyaudio.PyAudio()\n",
    "\n",
    "stream = p.open(format=pyaudio.paFloat32, channels=1, rate=rate, input=True, frames_per_buffer=CHUNK)\n",
    "player = p.open(format=pyaudio.paFloat32, channels=1, rate=rate, output=True, frames_per_buffer=CHUNK)\n",
    "\n",
    "index = 0\n",
    "prev_value = 0\n",
    "\n",
    "\n",
    "for i in range(int(LEN*rate/CHUNK)):\n",
    "    \n",
    "    # Input\n",
    "    data = -np.fromstring(stream.read(CHUNK),dtype=TYPE)\n",
    "    \n",
    "    # Processing\n",
    "    data, index, prev_value = robot_voice(data, index, prev_value, SIN_TABLE) \n",
    "    \n",
    "    # Output\n",
    "    player.write(data,CHUNK)\n",
    "\n",
    "\n",
    "stream.stop_stream()\n",
    "stream.close()\n",
    "p.terminate()"
   ]
  },
  {
   "cell_type": "markdown",
   "metadata": {
    "collapsed": true
   },
   "source": [
    "##  Now we move on to the granular synthesis"
   ]
  },
  {
   "cell_type": "code",
   "execution_count": 118,
   "metadata": {
    "collapsed": true
   },
   "outputs": [],
   "source": [
    "def ms2smp(ms, Fs):\n",
    "    \"\"\"\n",
    "    This function returns the number of samples contained in 'ms' milliseconds of an audio file with sampling rate Fs\n",
    "    \"\"\"\n",
    "    return int(float(Fs) * float(ms) / 1000.0)"
   ]
  },
  {
   "cell_type": "code",
   "execution_count": 119,
   "metadata": {
    "collapsed": true
   },
   "outputs": [],
   "source": [
    "def win_taper(N, a):\n",
    "    \"\"\"\n",
    "    This function fades a window of length N with an 'a'/2 long increasing slope at the start\n",
    "    and an 'a'/2 long decreasing slope at the end \n",
    "    \n",
    "    OUTPUT :\n",
    "        - win is an N-long array containing the 'shading values' (ie the trapezoid)\n",
    "        - stride is an integer corresponding to the number of values that will not be affected by the next grain\n",
    "         (eg. the last a/2 values are going to be affected by the next grain)\"\"\"\n",
    "    \n",
    "    \n",
    "    R = int(N * a / 2)\n",
    "    r = np.arange(0, R) / float(R)\n",
    "    win = np.r_[r, np.ones(N - 2*R), r[::-1]]\n",
    "    stride = N - R - 1\n",
    "    return win, stride"
   ]
  },
  {
   "cell_type": "code",
   "execution_count": 120,
   "metadata": {
    "collapsed": true
   },
   "outputs": [],
   "source": [
    "def double_len(x, G):\n",
    "    N = len(x)\n",
    "    y = np.zeros(2 * N, dtype=TYPE)\n",
    "    for n in range(0, len(x) - G, G):\n",
    "        y[2*n:2*n+G] = x[n:n+G]\n",
    "        y[2*n+G:2*n+2*G] = x[n:n+G]\n",
    "    return y"
   ]
  },
  {
   "cell_type": "code",
   "execution_count": 121,
   "metadata": {
    "collapsed": true
   },
   "outputs": [],
   "source": [
    "def subsample(x, t):\n",
    "    \n",
    "    \"\"\"\n",
    "    This function gives the value of array x at index t.\n",
    "    As t is a double here, the output value is a mix between x[floor(t)] and x[floor(t)+1].\n",
    "    The 'mixing' coefficients is given by the fractional part of t.\n",
    "    \"\"\"\n",
    "    \n",
    "    # Integer part of t\n",
    "    n = int(t)\n",
    "    \n",
    "    # 1 - fractional part of t => coefficient for x[floor(t)]\n",
    "    a = 1.0 - (t - n)\n",
    "    \n",
    "    \n",
    "    try:\n",
    "        return a * x[n] + (1 - a) * x[n + 1] \n",
    "    except IndexError:\n",
    "        try:\n",
    "            return a * x[n]\n",
    "        except IndexError:\n",
    "            return 0"
   ]
  },
  {
   "cell_type": "code",
   "execution_count": 122,
   "metadata": {
    "collapsed": true
   },
   "outputs": [],
   "source": [
    "def resample(x, factor):\n",
    "    \n",
    "    \"\"\"\n",
    "    This function performs a turntable pitch shifting.\n",
    "    If f > 1 then the voice will be accelerated and thus the frequency of speech will be higher.\n",
    "    If f < 1 then the voice will be slowed down and thus the frequency of speed will be smaller\n",
    "    \"\"\"\n",
    "    n_out = int(np.floor(len(x) / factor))\n",
    "    y = np.zeros(n_out)\n",
    "    \n",
    "    for n in range(0, n_out):\n",
    "        # Take 1 sample out of f \n",
    "        y[n] = subsample(x, float(n) * factor)\n",
    "        \n",
    "    return y.astype(TYPE)"
   ]
  },
  {
   "cell_type": "code",
   "execution_count": 170,
   "metadata": {
    "collapsed": true
   },
   "outputs": [],
   "source": [
    "def GS_pshift(x, factor, G, overlap=0.2):\n",
    "    N = len(x)\n",
    "    y = np.zeros(N, dtype=TYPE)\n",
    "    \n",
    "    # size of input buffer given grain size and resampling factor\n",
    "    igs = int(G * factor + 0.5)\n",
    "    win, stride = win_taper(G, overlap)\n",
    "    \n",
    "    \"\"\"Remember the step must be 'stride' and not len(win) because the next windows overlaps the last samples\n",
    "    of the previous window\"\"\"\n",
    "    \n",
    "    for n in range(0, len(x) - max(igs, G), stride):\n",
    "        \n",
    "        \n",
    "        w = resample(x[n:n+igs], factor)\n",
    "        \n",
    "        if len(w) == len(win)-1:\n",
    "            w = np.append(w,w[-1]/2.)\n",
    "        \n",
    "        y[n:n+G] += w * win\n",
    "        \n",
    "        \n",
    "        \n",
    "    return y"
   ]
  },
  {
   "cell_type": "code",
   "execution_count": 171,
   "metadata": {
    "collapsed": false
   },
   "outputs": [],
   "source": [
    "# Parameters\n",
    "rate = 16000 # Hz\n",
    "fsin = 600 # Hz\n",
    "CHUNK = 2**10 # samples. The higher the value, the larger the delay but the better the quality\n",
    "LEN = 10 # to change the duration of the simulation\n",
    "\n",
    "G = int(CHUNK/8)"
   ]
  },
  {
   "cell_type": "code",
   "execution_count": 172,
   "metadata": {
    "collapsed": false
   },
   "outputs": [],
   "source": [
    "p = pyaudio.PyAudio()\n",
    "\n",
    "stream = p.open(format=pyaudio.paFloat32, channels=1, rate=rate, input=True, frames_per_buffer=CHUNK)\n",
    "player = p.open(format=pyaudio.paFloat32, channels=1, rate=rate, output=True, frames_per_buffer=CHUNK)\n",
    "\n",
    "for i in range(int(LEN*rate/CHUNK)):\n",
    "    \n",
    "    # Input\n",
    "    data = -np.fromstring(stream.read(CHUNK),dtype=TYPE)\n",
    "    \n",
    "    # Processing. \n",
    "    # NOTE : THE RESULT HAS TO BE IN NP.FLOAT32\n",
    "    # => return result.astype(TYPE) in the processing function\n",
    "    \n",
    "    data = GS_pshift(data, 1.5, G)\n",
    "    \n",
    "    # Output\n",
    "    player.write(data,CHUNK)\n",
    "\n",
    "\n",
    "stream.stop_stream()\n",
    "stream.close()\n",
    "p.terminate()"
   ]
  },
  {
   "cell_type": "code",
   "execution_count": null,
   "metadata": {
    "collapsed": true
   },
   "outputs": [],
   "source": []
  },
  {
   "cell_type": "code",
   "execution_count": null,
   "metadata": {
    "collapsed": true
   },
   "outputs": [],
   "source": []
  }
 ],
 "metadata": {
  "anaconda-cloud": {},
  "kernelspec": {
   "display_name": "Python [Anaconda3]",
   "language": "python",
   "name": "Python [Anaconda3]"
  },
  "language_info": {
   "codemirror_mode": {
    "name": "ipython",
    "version": 3
   },
   "file_extension": ".py",
   "mimetype": "text/x-python",
   "name": "python",
   "nbconvert_exporter": "python",
   "pygments_lexer": "ipython3",
   "version": "3.5.6"
  }
 },
 "nbformat": 4,
 "nbformat_minor": 2
}
