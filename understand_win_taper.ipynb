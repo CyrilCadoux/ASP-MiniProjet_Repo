{
 "cells": [
  {
   "cell_type": "code",
   "execution_count": 1,
   "metadata": {
    "collapsed": false
   },
   "outputs": [],
   "source": [
    "import numpy as np"
   ]
  },
  {
   "cell_type": "code",
   "execution_count": 11,
   "metadata": {
    "collapsed": false
   },
   "outputs": [],
   "source": [
    "def win_taper(N, a):\n",
    "    \n",
    "    # N corresponds to the grain lengths, ie the chunk length\n",
    "    \n",
    "    R = int(N * a / 2)\n",
    "    r = np.arange(0, R) / float(R)\n",
    "    win = np.r_[r, np.ones(N - 2*R), r[::-1]]\n",
    "    stride = N - R - 1\n",
    "    \n",
    "    # win is an array of length N that contains coefficients that represent a trapezoid shape\n",
    "    # This allows to reduce the volume of the beginning and the end of the chunk that are merged together\n",
    "    \n",
    "    \n",
    "    # stride is the offset needed to merge two grains together\n",
    "    # If N = 100 and a = 0.3, the 15 first and last coefficients will be different than 1\n",
    "    # In order to fill the output array, we first modify the first 100 values\n",
    "    # Then (for the next grain) we must modify the values from (15+70-1) to (15+70-1  +  100)\n",
    "    # because the beginning of the second grain overlaps with the end of the first grain.\n",
    "    # stride is this value (15+70-1)\n",
    "    return win, stride"
   ]
  },
  {
   "cell_type": "code",
   "execution_count": 10,
   "metadata": {
    "collapsed": false
   },
   "outputs": [
    {
     "name": "stdout",
     "output_type": "stream",
     "text": [
      "100\n",
      "\n",
      "Stride= 84\n"
     ]
    }
   ],
   "source": [
    "window, stride = win_taper(100,0.3)\n",
    "\n",
    "print(len(window))\n",
    "print(\"\\nStride=\", stride)"
   ]
  }
 ],
 "metadata": {
  "anaconda-cloud": {},
  "kernelspec": {
   "display_name": "Python [Root]",
   "language": "python",
   "name": "Python [Root]"
  },
  "language_info": {
   "codemirror_mode": {
    "name": "ipython",
    "version": 3
   },
   "file_extension": ".py",
   "mimetype": "text/x-python",
   "name": "python",
   "nbconvert_exporter": "python",
   "pygments_lexer": "ipython3",
   "version": "3.5.6"
  }
 },
 "nbformat": 4,
 "nbformat_minor": 0
}
