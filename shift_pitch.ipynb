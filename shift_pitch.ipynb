{
 "cells": [
  {
   "cell_type": "code",
   "execution_count": 168,
   "metadata": {
    "collapsed": true
   },
   "outputs": [],
   "source": [
    "import numpy as np\n",
    "import sounddevice as sd\n",
    "import pyaudio\n",
    "import math\n",
    "import matplotlib.pyplot as plt\n",
    "import random\n",
    "%matplotlib inline"
   ]
  },
  {
   "cell_type": "code",
   "execution_count": 169,
   "metadata": {
    "collapsed": true
   },
   "outputs": [],
   "source": [
    "PI = np.pi"
   ]
  },
  {
   "cell_type": "code",
   "execution_count": 185,
   "metadata": {
    "collapsed": false
   },
   "outputs": [],
   "source": [
    "def sin_table(fsin, rate):\n",
    "    x = np.arange(0, rate/fsin)\n",
    "    return np.sin(x*2*PI*fsin/rate)\n",
    "\n",
    "SIN_TABLE = sin_table(fsin, rate)"
   ]
  },
  {
   "cell_type": "code",
   "execution_count": 186,
   "metadata": {
    "collapsed": false
   },
   "outputs": [],
   "source": [
    "def robot_voice(samples, index_offset, prev_val, table):\n",
    "    \"\"\"\n",
    "    Must return 3 things :\n",
    "        - the processed array for robot voice\n",
    "        - the next index to be used for the lookup table\n",
    "        - the last value still 'unprocessed'\n",
    "    \"\"\"\n",
    "    last_val = samples[-1]\n",
    "    N = len(table)\n",
    "    \n",
    "    # High pass filter the values\n",
    "    samples[0] = samples[0] - prev_val\n",
    "    samples[1:] = samples[1:] - samples[0:-1]\n",
    "    \n",
    "    k = index_offset\n",
    "    \n",
    "    for i in range(len(samples)):\n",
    "        samples[i] = samples[i] * table[k]\n",
    "        k = (k+1) % N\n",
    "        \n",
    "    \n",
    "    \n",
    "    \n",
    "    return samples, k, last_val"
   ]
  },
  {
   "cell_type": "code",
   "execution_count": 187,
   "metadata": {
    "collapsed": true
   },
   "outputs": [],
   "source": [
    "# Parameters\n",
    "rate = 16000 # Hz\n",
    "fsin = 600 # Hz\n",
    "CHUNK = 2**12 # samples. The higher the value, the larger the delay but the better the quality\n",
    "LEN = 10 # to change the duration of the simulation"
   ]
  },
  {
   "cell_type": "code",
   "execution_count": 188,
   "metadata": {
    "collapsed": false
   },
   "outputs": [],
   "source": [
    "p = pyaudio.PyAudio()\n",
    "\n",
    "stream = p.open(format=pyaudio.paInt16, channels=1, rate=rate, input=True, frames_per_buffer=CHUNK)\n",
    "player = p.open(format=pyaudio.paInt16, channels=1, rate=rate, output=True, frames_per_buffer=CHUNK)\n",
    "\n",
    "index = 0\n",
    "prev_value = 0\n",
    "\n",
    "\n",
    "for i in range(int(LEN*RATE/CHUNK)):\n",
    "    data = np.fromstring(stream.read(CHUNK),dtype=np.int16)\n",
    "    data, index, prev_value = robot_voice(data, index, prev_value, SIN_TABLE) \n",
    "    player.write(data,CHUNK)\n",
    "\n",
    "\n",
    "stream.stop_stream()\n",
    "stream.close()\n",
    "p.terminate()"
   ]
  },
  {
   "cell_type": "code",
   "execution_count": null,
   "metadata": {
    "collapsed": true
   },
   "outputs": [],
   "source": []
  }
 ],
 "metadata": {
  "kernelspec": {
   "display_name": "Python [Anaconda3]",
   "language": "python",
   "name": "Python [Anaconda3]"
  },
  "language_info": {
   "codemirror_mode": {
    "name": "ipython",
    "version": 3
   },
   "file_extension": ".py",
   "mimetype": "text/x-python",
   "name": "python",
   "nbconvert_exporter": "python",
   "pygments_lexer": "ipython3",
   "version": "3.5.6"
  }
 },
 "nbformat": 4,
 "nbformat_minor": 2
}
