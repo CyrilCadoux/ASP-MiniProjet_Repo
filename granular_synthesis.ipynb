{
 "cells": [
  {
   "cell_type": "code",
   "execution_count": 20,
   "metadata": {
    "collapsed": false
   },
   "outputs": [],
   "source": [
    "import numpy as np\n",
    "import sounddevice as sd\n",
    "from scipy.io import wavfile"
   ]
  },
  {
   "cell_type": "code",
   "execution_count": 4,
   "metadata": {
    "collapsed": true
   },
   "outputs": [],
   "source": [
    "def ms2smp(ms, fs):\n",
    "    \"\"\"\n",
    "    Parameters\n",
    "    ----------\n",
    "    ms: float\n",
    "        Time in milliseconds\n",
    "    fs: float\n",
    "        Sampling rate in Hz.\n",
    "    \"\"\"\n",
    "    # seconds = ms/1000\n",
    "    return int(fs*ms/1000.)"
   ]
  },
  {
   "cell_type": "code",
   "execution_count": 12,
   "metadata": {
    "collapsed": true
   },
   "outputs": [],
   "source": [
    "def win_taper(N, a, data_type=np.int16):\n",
    "\n",
    "    \"\"\"\n",
    "    Parameters\n",
    "    ----------\n",
    "    N: the length of the grain (in samples)\n",
    "    a: a double between 0 and 1 representing the fraction of the N samples that will be attenuated\n",
    "        (a/2 samples are attenuated on both sides)\n",
    "    data_type: the data type of the output\n",
    "        \n",
    "    output: a profile represented by values that span the entire positive range of \"data_type\", that will modify the sound\n",
    "    samples at the beginning and the start of grains so that we can make grains overlap without problem.\"\"\"\n",
    "    \n",
    "    \n",
    "    # Number of samples that are attenuated on each side\n",
    "    nb_attenuated = int(N * a / 2)\n",
    "    \n",
    "    # Create the increasing \"ramp\"\n",
    "    ramp = np.arange(0, nb_attenuated) / float(nb_attenuated)\n",
    "    \n",
    "    # Create the final profile by concatenating increasing ramp, untouched samples and decreasing ramp\n",
    "    win = np.concatenate((ramp, \n",
    "        np.ones(N-2*nb_attenuated), \n",
    "        ramp[::-1]))\n",
    "    \n",
    "    # The maximum value that can be represented using this datatype\n",
    "    max_val = np.iinfo(data_type).max\n",
    "\n",
    "    # Make sure that the correct type is returned\n",
    "    return (win*max_val).astype(data_type)"
   ]
  },
  {
   "cell_type": "code",
   "execution_count": 18,
   "metadata": {
    "collapsed": true
   },
   "outputs": [],
   "source": [
    "def compute_stride(N, a):\n",
    "    return N - int(N * a / 2) - 1"
   ]
  },
  {
   "cell_type": "code",
   "execution_count": 15,
   "metadata": {
    "collapsed": true
   },
   "outputs": [],
   "source": [
    "def build_linear_interp_table(n_samples, down_fact, data_type=np.int16):\n",
    "\n",
    "    which_samples = []\n",
    "    amplitudes = []\n",
    "    for n in range(n_samples):\n",
    "        \n",
    "        # The interpolation time\n",
    "        t = n*down_fact\n",
    "        \n",
    "        # The largest integer smaller than t\n",
    "        N = np.floor(t)\n",
    "        \n",
    "        # The amplitude that should have this latest sample\n",
    "        # (if t = 1.01 s then the amplitude of the sample at time N=1 sould be 0.99)\n",
    "        a = 1-(t-N)\n",
    "        \n",
    "        which_samples.append(N)\n",
    "        amplitudes.append(a)\n",
    "\n",
    "    MAX_VAL = np.iinfo(data_type).max\n",
    "    \n",
    "    # Set the amplitudes in the range defined by the data_type\n",
    "    amplitudes = (np.array(amplitudes)*MAX_VAL).astype(data_type)\n",
    "\n",
    "    return which_samples, amplitudes"
   ]
  },
  {
   "cell_type": "code",
   "execution_count": 16,
   "metadata": {
    "collapsed": false
   },
   "outputs": [
    {
     "ename": "SyntaxError",
     "evalue": "invalid syntax (<ipython-input-16-40ed34ffa1e2>, line 14)",
     "output_type": "error",
     "traceback": [
      "\u001b[1;36m  File \u001b[1;32m\"<ipython-input-16-40ed34ffa1e2>\"\u001b[1;36m, line \u001b[1;32m14\u001b[0m\n\u001b[1;33m    global ...\u001b[0m\n\u001b[1;37m             ^\u001b[0m\n\u001b[1;31mSyntaxError\u001b[0m\u001b[1;31m:\u001b[0m invalid syntax\n"
     ]
    }
   ],
   "source": [
    "# state variables and constants\n",
    "def init():\n",
    "\n",
    "    # lookup table for tapering window\n",
    "    global WIN\n",
    "    WIN = win_taper(N, a, data_type)\n",
    "\n",
    "    # lookup table for linear interpolation\n",
    "    global SAMP_VALS\n",
    "    global AMP_VALS\n",
    "    SAMP_VALS, AMP_VALS = build_linear_interp_table(N, shift_factor, data_type)\n",
    "    \n",
    "\n",
    "    # create arrays to pass between buffers (state variables)\n",
    "    global ...\n",
    "\n",
    "    # create arrays for intermediate values\n",
    "    global ..."
   ]
  },
  {
   "cell_type": "code",
   "execution_count": null,
   "metadata": {
    "collapsed": true
   },
   "outputs": [],
   "source": [
    "# the process function!\n",
    "def process(input_buffer, output_buffer, buffer_len):\n",
    "\n",
    "    # need to specify those global variables changing in this function (state variables and intermediate values)\n",
    "    global ...\n",
    "\n",
    "    # append samples from previous buffer\n",
    "    for n in range(N):\n",
    "        ...\n",
    "\n",
    "    # resample\n",
    "    for n in range(N):\n",
    "        ...\n",
    "\n",
    "    # apply window\n",
    "    for n in range(N):\n",
    "        ...\n",
    "\n",
    "    # write to output\n",
    "    for n in range(N):\n",
    "        # overlapping part\n",
    "        if n < OVERLAP_LEN:\n",
    "            ...\n",
    "        # non-overlapping part\n",
    "        elif n < STRIDE:\n",
    "            ...\n",
    "        # update state variables\n",
    "        else:\n",
    "            ..."
   ]
  },
  {
   "cell_type": "markdown",
   "metadata": {},
   "source": [
    "### Main cell for file processing"
   ]
  },
  {
   "cell_type": "code",
   "execution_count": 17,
   "metadata": {
    "collapsed": false
   },
   "outputs": [
    {
     "ename": "NameError",
     "evalue": "name 'wavfile' is not defined",
     "output_type": "error",
     "traceback": [
      "\u001b[1;31m\u001b[0m",
      "\u001b[1;31mNameError\u001b[0mTraceback (most recent call last)",
      "\u001b[1;32m<ipython-input-17-ed3fa061cc6f>\u001b[0m in \u001b[0;36m<module>\u001b[1;34m()\u001b[0m\n\u001b[0;32m     13\u001b[0m \u001b[1;33m\u001b[0m\u001b[0m\n\u001b[0;32m     14\u001b[0m \u001b[1;31m# open WAV file\u001b[0m\u001b[1;33m\u001b[0m\u001b[1;33m\u001b[0m\u001b[0m\n\u001b[1;32m---> 15\u001b[1;33m \u001b[0msamp_freq\u001b[0m\u001b[1;33m,\u001b[0m \u001b[0msignal\u001b[0m \u001b[1;33m=\u001b[0m \u001b[0mwavfile\u001b[0m\u001b[1;33m.\u001b[0m\u001b[0mread\u001b[0m\u001b[1;33m(\u001b[0m\u001b[0minput_wav\u001b[0m\u001b[1;33m)\u001b[0m\u001b[1;33m\u001b[0m\u001b[0m\n\u001b[0m\u001b[0;32m     16\u001b[0m \u001b[0msignal\u001b[0m \u001b[1;33m=\u001b[0m \u001b[0msignal\u001b[0m\u001b[1;33m[\u001b[0m\u001b[1;33m:\u001b[0m\u001b[1;33m,\u001b[0m\u001b[1;33m]\u001b[0m  \u001b[1;31m# get first channel\u001b[0m\u001b[1;33m\u001b[0m\u001b[0m\n\u001b[0;32m     17\u001b[0m \u001b[0mdata_type\u001b[0m \u001b[1;33m=\u001b[0m \u001b[0msignal\u001b[0m\u001b[1;33m.\u001b[0m\u001b[0mdtype\u001b[0m\u001b[1;33m\u001b[0m\u001b[0m\n",
      "\u001b[1;31mNameError\u001b[0m: name 'wavfile' is not defined"
     ]
    }
   ],
   "source": [
    "\n",
    "\"\"\"\n",
    "Pitch shifting with granular synthesis for shift factors <=1.0\n",
    "\"\"\"\n",
    "\n",
    "\"\"\" User selected parameters \"\"\"\n",
    "\n",
    "\n",
    "input_wav = \"speech.wav\"\n",
    "grain_len = 20      # in milliseconds\n",
    "a = 0.3    # grain overlap (0,1)\n",
    "shift_factor = 0.7  # <= 1.0\n",
    "\n",
    "# open WAV file\n",
    "samp_freq, signal = wavfile.read(input_wav)\n",
    "signal = signal[:,1]  # get first channel\n",
    "data_type = signal.dtype\n",
    "MAX_VAL = np.iinfo(data_type).max\n",
    "\n",
    "# derived parameters\n",
    "N = ms2smp(grain_len, samp_freq)\n",
    "STRIDE = compute_stride(N, a)\n",
    "OVERLAP_LEN = N-STRIDE\n",
    "\n",
    "# allocate input and output buffers\n",
    "input_buffer = np.zeros(STRIDE, dtype=data_type)\n",
    "output_buffer = np.zeros(STRIDE, dtype=data_type)\n",
    "\n",
    "# Let's say that N = 100 and STRIDE = 80\n",
    "# We want to output the first 80 samples\n",
    "# input buffer contains the first 80 RAW samples\n",
    "\n",
    "# For each input buffer, we need to remember the \n",
    "\n",
    "\"\"\"\n",
    "Nothing to touch after this!\n",
    "\"\"\"\n",
    "\n",
    "init()\n",
    "\n",
    "# Init simulation of block based processing\n",
    "n_buffers = len(signal)//STRIDE\n",
    "result = np.zeros(n_buffers*STRIDE, dtype=data_type)\n",
    "\n",
    "\n",
    "for k in range(n_buffers):\n",
    "\n",
    "    # sample indices\n",
    "    start_idx = k*STRIDE\n",
    "    end_idx = (k+1)*STRIDE\n",
    "\n",
    "    \n",
    "    # input_buffer is a buffer of length stride\n",
    "    input_buffer = signal[start_idx:end_idx]\n",
    "    \n",
    "    # Process\n",
    "    process(input_buffer, output_buffer, STRIDE)\n",
    "    result[start_idx:end_idx] = output_buffer\n",
    "\n",
    "# write to WAV\n",
    "file_name = \"output_gran_synth.wav\"\n",
    "print(\"Result written to: %s\" % file_name)\n",
    "wavfile.write(file_name, samp_freq, result)"
   ]
  },
  {
   "cell_type": "code",
   "execution_count": null,
   "metadata": {
    "collapsed": true
   },
   "outputs": [],
   "source": []
  }
 ],
 "metadata": {
  "anaconda-cloud": {},
  "kernelspec": {
   "display_name": "Python [Anaconda3]",
   "language": "python",
   "name": "Python [Anaconda3]"
  },
  "language_info": {
   "codemirror_mode": {
    "name": "ipython",
    "version": 3
   },
   "file_extension": ".py",
   "mimetype": "text/x-python",
   "name": "python",
   "nbconvert_exporter": "python",
   "pygments_lexer": "ipython3",
   "version": "3.5.6"
  }
 },
 "nbformat": 4,
 "nbformat_minor": 0
}
